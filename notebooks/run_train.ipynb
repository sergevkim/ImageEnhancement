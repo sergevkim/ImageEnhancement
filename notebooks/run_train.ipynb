{
 "cells": [
  {
   "cell_type": "code",
   "execution_count": null,
   "metadata": {},
   "outputs": [
    {
     "name": "stdout",
     "output_type": "stream",
     "text": [
      "/Vol0/user/kim.sergey/git/ImageEnhancement\n",
      "dict_keys(['batch_size', 'data_dir', 'num_workers', 'test_ratio', 'train_ratio', 'val_ratio'])\n",
      "/Vol0/user/kim.sergey/git/ImageEnhancement/data/images\n",
      "Dataset size: 63565\n",
      "44496 12713 6356\n",
      "63565\n"
     ]
    },
    {
     "name": "stderr",
     "output_type": "stream",
     "text": [
      "GPU available: True, used: True\n",
      "TPU available: False, using: 0 TPU cores\n",
      "CUDA_VISIBLE_DEVICES: [0]\n",
      "\n",
      "  | Name         | Type      | Params\n",
      "-------------------------------------------\n",
      "0 | block_down_1 | BlockDown | 1 K   \n",
      "1 | block_down_2 | BlockDown | 5 K   \n",
      "2 | block_down_3 | BlockDown | 13 K  \n",
      "3 | block_down_4 | BlockDown | 25 K  \n",
      "4 | block_up_1   | BlockUp   | 33 K  \n",
      "5 | block_up_2   | BlockUp   | 16 K  \n",
      "6 | block_up_3   | BlockUp   | 4 K   \n",
      "7 | block_up_4   | BlockUp   | 678   \n"
     ]
    },
    {
     "data": {
      "application/vnd.jupyter.widget-view+json": {
       "model_id": "53030f604596411c87d6c431d0df73c0",
       "version_major": 2,
       "version_minor": 0
      },
      "text/plain": [
       "HBox(children=(FloatProgress(value=1.0, bar_style='info', description='Validation sanity check', layout=Layout…"
      ]
     },
     "metadata": {},
     "output_type": "display_data"
    },
    {
     "name": "stdout",
     "output_type": "stream",
     "text": [
      "\r"
     ]
    },
    {
     "data": {
      "application/vnd.jupyter.widget-view+json": {
       "model_id": "52f32ca0a6fe4e05a65a1ea546cab48d",
       "version_major": 2,
       "version_minor": 0
      },
      "text/plain": [
       "HBox(children=(FloatProgress(value=1.0, bar_style='info', description='Training', layout=Layout(flex='2'), max…"
      ]
     },
     "metadata": {},
     "output_type": "display_data"
    }
   ],
   "source": [
    "%cd ..\n",
    "'''\n",
    "to use lib module\n",
    "'''\n",
    "from argparse import ArgumentParser\n",
    "\n",
    "from pytorch_lightning import Trainer\n",
    "\n",
    "from lib.constants import ANIME_DATAMODULE_ARGS_INFO, UNET_MODEL_ARGS_INFO\n",
    "from lib.datamodules import AnimeDataModule\n",
    "from lib.models import UNetModel\n",
    "\n",
    "\n",
    "args = {\n",
    "    **ANIME_DATAMODULE_ARGS_INFO,\n",
    "    **UNET_MODEL_ARGS_INFO}\n",
    "print(args.keys())\n",
    "\n",
    "model = UNetModel(\n",
    "    lr=3e-4,\n",
    "    n_channels=3,\n",
    "    n_classes=3)\n",
    "\n",
    "datamodule = AnimeDataModule(\n",
    "    batch_size=args['batch_size']['default'],\n",
    "    data_dir=args['data_dir']['default'],\n",
    "    num_workers=args['num_workers']['default'])\n",
    "datamodule.setup(\n",
    "    test_ratio=args['test_ratio']['default'],\n",
    "    train_ratio=args['train_ratio']['default'],\n",
    "    val_ratio=args['val_ratio']['default'])\n",
    "\n",
    "trainer = Trainer(\n",
    "    auto_select_gpus=True,\n",
    "    gpus=1,\n",
    "    logger=False)\n",
    "\n",
    "#lr_finder = trainer.lr_find(model)\n",
    "#model.learning_rate = lr_finder.suggestion()\n",
    "\n",
    "trainer.fit(\n",
    "    model=model,\n",
    "    train_dataloader=datamodule.train_dataloader(),\n",
    "    val_dataloaders=datamodule.val_dataloader())\n",
    "trainer.test(\n",
    "    test_dataloaders=datamodule.test_dataloader(),\n",
    "    ckpt_path='best')"
   ]
  },
  {
   "cell_type": "code",
   "execution_count": null,
   "metadata": {},
   "outputs": [],
   "source": []
  }
 ],
 "metadata": {
  "kernelspec": {
   "display_name": "Python 3",
   "language": "python",
   "name": "python3"
  },
  "language_info": {
   "codemirror_mode": {
    "name": "ipython",
    "version": 3
   },
   "file_extension": ".py",
   "mimetype": "text/x-python",
   "name": "python",
   "nbconvert_exporter": "python",
   "pygments_lexer": "ipython3",
   "version": "3.7.6"
  }
 },
 "nbformat": 4,
 "nbformat_minor": 4
}
