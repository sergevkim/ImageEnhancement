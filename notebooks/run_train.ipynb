{
 "cells": [
  {
   "cell_type": "code",
   "execution_count": 2,
   "metadata": {},
   "outputs": [
    {
     "name": "stdout",
     "output_type": "stream",
     "text": [
      "/Users/sergevkim/Git\n",
      "dict_keys(['batch_size', 'data_dir', 'num_workers', 'test_ratio', 'train_ratio', 'val_ratio'])\n",
      "/Users/sergevkim/Git/ImageEnhancement/data/images\n"
     ]
    },
    {
     "name": "stderr",
     "output_type": "stream",
     "text": [
      "GPU available: False, used: False\n",
      "TPU available: False, using: 0 TPU cores\n",
      "\n",
      "  | Name         | Type      | Params\n",
      "-------------------------------------------\n",
      "0 | block_down_1 | BlockDown | 1 K   \n",
      "1 | block_down_2 | BlockDown | 5 K   \n",
      "2 | block_down_3 | BlockDown | 13 K  \n",
      "3 | block_down_4 | BlockDown | 25 K  \n",
      "4 | block_up_1   | BlockUp   | 33 K  \n",
      "5 | block_up_2   | BlockUp   | 16 K  \n",
      "6 | block_up_3   | BlockUp   | 4 K   \n",
      "7 | block_up_4   | BlockUp   | 678   \n"
     ]
    },
    {
     "name": "stdout",
     "output_type": "stream",
     "text": [
      "Dataset size: 63565\n",
      "44496 12713 6356\n",
      "63565\n"
     ]
    },
    {
     "data": {
      "application/vnd.jupyter.widget-view+json": {
       "model_id": "e216517e465d40b2963efe027e821e28",
       "version_major": 2,
       "version_minor": 0
      },
      "text/plain": [
       "HBox(children=(FloatProgress(value=1.0, bar_style='info', description='Validation sanity check', layout=Layout…"
      ]
     },
     "metadata": {},
     "output_type": "display_data"
    },
    {
     "data": {
      "application/vnd.jupyter.widget-view+json": {
       "model_id": "9b76c76220bc48938c5279d56087d1ba",
       "version_major": 2,
       "version_minor": 0
      },
      "text/plain": [
       "HBox(children=(FloatProgress(value=1.0, bar_style='info', description='Training', layout=Layout(flex='2'), max…"
      ]
     },
     "metadata": {},
     "output_type": "display_data"
    },
    {
     "name": "stdout",
     "output_type": "stream",
     "text": [
      "\n"
     ]
    },
    {
     "data": {
      "text/plain": [
       "{}"
      ]
     },
     "execution_count": 2,
     "metadata": {},
     "output_type": "execute_result"
    }
   ],
   "source": [
    "%cd ..\n",
    "'''\n",
    "to use lib module\n",
    "'''\n",
    "from argparse import ArgumentParser\n",
    "\n",
    "from pytorch_lightning import Trainer\n",
    "\n",
    "from lib.constants import ANIME_DATAMODULE_ARGS_INFO, UNET_MODEL_ARGS_INFO\n",
    "from lib.datamodules import AnimeDataModule\n",
    "from lib.models import UNetModel\n",
    "\n",
    "\n",
    "args = {\n",
    "    **ANIME_DATAMODULE_ARGS_INFO,\n",
    "    **UNET_MODEL_ARGS_INFO}\n",
    "print(args.keys())\n",
    "\n",
    "model = UNetModel(\n",
    "    lr=3e-4,\n",
    "    n_channels=3,\n",
    "    n_classes=3)\n",
    "\n",
    "datamodule = AnimeDataModule(\n",
    "    batch_size=args['batch_size']['default'],\n",
    "    data_dir=args['data_dir']['default'],\n",
    "    num_workers=args['num_workers']['default'])\n",
    "datamodule.setup(\n",
    "    test_ratio=args['test_ratio']['default'],\n",
    "    train_ratio=args['train_ratio']['default'],\n",
    "    val_ratio=args['val_ratio']['default'])\n",
    "\n",
    "trainer = Trainer(logger=False)\n",
    "\n",
    "#lr_finder = trainer.lr_find(model)\n",
    "#model.learning_rate = lr_finder.suggestion()\n",
    "\n",
    "trainer.fit(\n",
    "    model=model,\n",
    "    train_dataloader=datamodule.train_dataloader(),\n",
    "    val_dataloaders=datamodule.val_dataloader())\n",
    "trainer.test(\n",
    "    test_dataloaders=datamodule.test_dataloader(),\n",
    "    ckpt_path='best')"
   ]
  },
  {
   "cell_type": "code",
   "execution_count": 1,
   "metadata": {},
   "outputs": [
    {
     "data": {
      "application/vnd.jupyter.widget-view+json": {
       "model_id": "299a63d5c0ad44849626ec671a49fbbb",
       "version_major": 2,
       "version_minor": 0
      },
      "text/plain": [
       "HBox(children=(FloatProgress(value=0.0, max=1000000000.0), HTML(value='')))"
      ]
     },
     "metadata": {},
     "output_type": "display_data"
    },
    {
     "name": "stdout",
     "output_type": "stream",
     "text": [
      "0\n",
      "\n"
     ]
    },
    {
     "ename": "KeyboardInterrupt",
     "evalue": "",
     "output_type": "error",
     "traceback": [
      "\u001b[0;31m---------------------------------------------------------------------------\u001b[0m",
      "\u001b[0;31mKeyboardInterrupt\u001b[0m                         Traceback (most recent call last)",
      "\u001b[0;32m<ipython-input-1-79269135b14b>\u001b[0m in \u001b[0;36m<module>\u001b[0;34m\u001b[0m\n\u001b[1;32m      3\u001b[0m \u001b[0;34m\u001b[0m\u001b[0m\n\u001b[1;32m      4\u001b[0m \u001b[0;32mfor\u001b[0m \u001b[0mi\u001b[0m \u001b[0;32min\u001b[0m \u001b[0mtqdm\u001b[0m\u001b[0;34m(\u001b[0m\u001b[0mrange\u001b[0m\u001b[0;34m(\u001b[0m\u001b[0;36m1000000000\u001b[0m\u001b[0;34m)\u001b[0m\u001b[0;34m)\u001b[0m\u001b[0;34m:\u001b[0m\u001b[0;34m\u001b[0m\u001b[0;34m\u001b[0m\u001b[0m\n\u001b[0;32m----> 5\u001b[0;31m     \u001b[0;32mif\u001b[0m \u001b[0mi\u001b[0m \u001b[0;34m%\u001b[0m \u001b[0;36m10000000\u001b[0m \u001b[0;34m==\u001b[0m \u001b[0;36m0\u001b[0m\u001b[0;34m:\u001b[0m\u001b[0;34m\u001b[0m\u001b[0;34m\u001b[0m\u001b[0m\n\u001b[0m\u001b[1;32m      6\u001b[0m         \u001b[0mprint\u001b[0m\u001b[0;34m(\u001b[0m\u001b[0mi\u001b[0m\u001b[0;34m)\u001b[0m\u001b[0;34m\u001b[0m\u001b[0;34m\u001b[0m\u001b[0m\n",
      "\u001b[0;31mKeyboardInterrupt\u001b[0m: "
     ]
    }
   ],
   "source": [
    "from tqdm.auto import tqdm\n",
    "\n",
    "\n",
    "for i in tqdm(range(1000000000)):\n",
    "    if i % 10000000 == 0:\n",
    "        print(i)"
   ]
  },
  {
   "cell_type": "code",
   "execution_count": null,
   "metadata": {},
   "outputs": [],
   "source": []
  }
 ],
 "metadata": {
  "kernelspec": {
   "display_name": "Python 3",
   "language": "python",
   "name": "python3"
  },
  "language_info": {
   "codemirror_mode": {
    "name": "ipython",
    "version": 3
   },
   "file_extension": ".py",
   "mimetype": "text/x-python",
   "name": "python",
   "nbconvert_exporter": "python",
   "pygments_lexer": "ipython3",
   "version": "3.7.2"
  }
 },
 "nbformat": 4,
 "nbformat_minor": 4
}
